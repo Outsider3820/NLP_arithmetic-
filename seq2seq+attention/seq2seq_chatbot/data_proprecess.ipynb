{
 "cells": [
  {
   "cell_type": "code",
   "execution_count": 5,
   "metadata": {},
   "outputs": [],
   "source": [
    "import jieba\n",
    "with open(\"data/xiaohuangji_chatbot_data1.txt\",\"r\") as f:\n",
    "    data = f.readlines()\n",
    "with open(\"data/xiaohuangji_chatbot_data2.txt\",\"w\",encoding=\"utf8\") as fi:\n",
    "    for i, d in enumerate(data):\n",
    "        d = d.strip()\n",
    "        if i%2 == 0:\n",
    "            fi.write(d)\n",
    "        else:\n",
    "            fi.write(\"@@\")\n",
    "            fi.write(d)\n",
    "            fi.write(\"\\n\")\n"
   ]
  },
  {
   "cell_type": "code",
   "execution_count": 8,
   "metadata": {},
   "outputs": [],
   "source": [
    "with open(\"data/xiaohuangji_chatbot_data2.txt\",\"r\") as f:\n",
    "    data = f.readlines()\n",
    "with open(\"data/xiaohuangji_chatbot_data3.txt\",\"w\",encoding=\"utf8\") as fi:\n",
    "    for i, d in enumerate(data):\n",
    "        d = d.strip()\n",
    "        flag = True\n",
    "        for j in d:\n",
    "            if (j >= u'\\u4e00' and j <= u'\\u9fa5') or j==\"@\" or j==\"！\" or j==\"，\" or j==\"。\" or j==\" \":\n",
    "                pass\n",
    "            else:\n",
    "                flag=False\n",
    "                break\n",
    "        if flag:\n",
    "            fi.write(d)\n",
    "            fi.write(\"\\n\")\n",
    "        "
   ]
  },
  {
   "cell_type": "code",
   "execution_count": 11,
   "metadata": {},
   "outputs": [],
   "source": [
    "import re\n",
    "with open(\"data/xiaohuangji_chatbot_data2.txt\",\"r\") as f:\n",
    "    data = f.readlines()\n",
    "with open(\"data/xiaohuangji_chatbot_data4.txt\",\"w\",encoding=\"utf8\") as fi:\n",
    "    for i, d in enumerate(data):\n",
    "        d = d.strip()\n",
    "        d = re.sub(r'[^\\u4e00-\\u9fa5@！。， ]','',d)\n",
    "        d = re.sub(r\"\\s+\",\" \",d)\n",
    "        fi.write(d)\n",
    "        fi.write(\"\\n\")"
   ]
  },
  {
   "cell_type": "code",
   "execution_count": 13,
   "metadata": {},
   "outputs": [],
   "source": [
    "import re\n",
    "with open(\"data/xiaohuangji_chatbot_data4.txt\",\"r\") as f:\n",
    "    data = f.readlines()\n",
    "with open(\"data/xiaohuangji_chatbot_data5.txt\",\"w\",encoding=\"utf8\") as fi:\n",
    "    for i, d in enumerate(data):\n",
    "        d = d.strip()\n",
    "        w = d.split(\"@@\")\n",
    "        if len(w[0]) >=3 and len(w[1])>=3:\n",
    "            fi.write(d)\n",
    "            fi.write(\"\\n\")"
   ]
  },
  {
   "cell_type": "code",
   "execution_count": null,
   "metadata": {},
   "outputs": [],
   "source": []
  }
 ],
 "metadata": {
  "kernelspec": {
   "display_name": "Python 3",
   "language": "python",
   "name": "python3"
  },
  "language_info": {
   "codemirror_mode": {
    "name": "ipython",
    "version": 3
   },
   "file_extension": ".py",
   "mimetype": "text/x-python",
   "name": "python",
   "nbconvert_exporter": "python",
   "pygments_lexer": "ipython3",
   "version": "3.7.6"
  }
 },
 "nbformat": 4,
 "nbformat_minor": 4
}
